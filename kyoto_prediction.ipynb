{
 "cells": [
  {
   "cell_type": "code",
   "execution_count": 104,
   "metadata": {},
   "outputs": [],
   "source": [
    "import pandas as pd\n",
    "from sklearn.preprocessing import StandardScaler\n",
    "from sklearn.metrics import mean_absolute_error\n",
    "from datetime import datetime, timedelta"
   ]
  },
  {
   "cell_type": "code",
   "execution_count": 105,
   "metadata": {},
   "outputs": [],
   "source": [
    "kyoto_df = pd.read_csv('data/kyoto.csv')\n",
    "japan_df = pd.read_csv('data/japan.csv')"
   ]
  },
  {
   "cell_type": "markdown",
   "metadata": {},
   "source": [
    "**Data Preprocessing and Feature Engineering**"
   ]
  },
  {
   "cell_type": "code",
   "execution_count": 106,
   "metadata": {},
   "outputs": [],
   "source": [
    "kyoto_df['bloom_date'] = pd.to_datetime(kyoto_df['bloom_date'], errors='coerce')\n",
    "japan_df['bloom_date'] = pd.to_datetime(japan_df['bloom_date'], errors='coerce')\n",
    "\n",
    "# Drop rows with missing bloom_date in Kyoto\n",
    "kyoto_df = kyoto_df.dropna(subset=['bloom_date'])\n",
    "\n",
    "# Standardize latitude, longitude, and altitude\n",
    "scaler = StandardScaler()\n",
    "kyoto_df[['lat', 'long', 'alt']] = scaler.fit_transform(kyoto_df[['lat', 'long', 'alt']])\n",
    "japan_df[['lat', 'long', 'alt']] = scaler.transform(japan_df[['lat', 'long', 'alt']])\n",
    "\n",
    "# Merge both datasets\n",
    "combined_df = pd.concat([kyoto_df, japan_df], ignore_index=True)\n",
    "\n",
    "# Create lag features for previous bloom dates\n",
    "combined_df = combined_df.sort_values(by=['location', 'year'])\n",
    "combined_df['bloom_doy_lag1'] = combined_df.groupby('location')['bloom_doy'].shift(1)\n",
    "combined_df['bloom_doy_lag2'] = combined_df.groupby('location')['bloom_doy'].shift(2)\n",
    "combined_df['bloom_doy_lag3'] = combined_df.groupby('location')['bloom_doy'].shift(3)\n",
    "\n",
    "# Fill missing lag values with the mean bloom_doy of each location\n",
    "combined_df =combined_df.fillna(combined_df.groupby('location')['bloom_doy'].mean())"
   ]
  },
  {
   "cell_type": "markdown",
   "metadata": {},
   "source": [
    "**Model Selection and Training**\n",
    "\n",
    "Using Random Forest for Exact Date"
   ]
  },
  {
   "cell_type": "code",
   "execution_count": null,
   "metadata": {},
   "outputs": [
    {
     "name": "stdout",
     "output_type": "stream",
     "text": [
      "Mean Absolute Error: 2.966325379609538\n"
     ]
    },
    {
     "name": "stderr",
     "output_type": "stream",
     "text": [
      "/var/folders/p_/x4s4h05d2wn2zd_7c67dr3zh0000gn/T/ipykernel_19221/1179756727.py:6: FutureWarning: DataFrame.mean and DataFrame.median with numeric_only=None will include datetime64 and datetime64tz columns in a future version.\n",
      "  train_df.fillna(train_df.mean(), inplace=True)\n",
      "/var/folders/p_/x4s4h05d2wn2zd_7c67dr3zh0000gn/T/ipykernel_19221/1179756727.py:6: FutureWarning: Dropping of nuisance columns in DataFrame reductions (with 'numeric_only=None') is deprecated; in a future version this will raise TypeError.  Select only valid columns before calling the reduction.\n",
      "  train_df.fillna(train_df.mean(), inplace=True)\n"
     ]
    }
   ],
   "source": [
    "from sklearn.ensemble import RandomForestRegressor\n",
    "from sklearn.model_selection import train_test_split\n",
    "\n",
    "# Split data into training and testing sets\n",
    "train_df = combined_df[combined_df['year'] < 2025]\n",
    "train_df.fillna(train_df.mean(), inplace=True)\n",
    "\n",
    "# Define features and target\n",
    "features = ['lat', 'long', 'alt', 'year', 'bloom_doy_lag1', 'bloom_doy_lag2', 'bloom_doy_lag3']\n",
    "target = 'bloom_doy'\n",
    "\n",
    "# Train-test split for validation\n",
    "X_train, X_val, y_train, y_val = train_test_split(train_df[features], train_df[target], test_size=0.2, random_state=42)\n",
    "\n",
    "# Train Random Forest model\n",
    "model = RandomForestRegressor(n_estimators=100, random_state=100)\n",
    "model.fit(X_train, y_train)\n",
    "\n",
    "# Model evaluation\n",
    "y_pred = model.predict(X_val)\n",
    "mae = mean_absolute_error(y_val, y_pred)\n",
    "print(\"Mean Absolute Error:\", mae)"
   ]
  },
  {
   "cell_type": "code",
   "execution_count": 109,
   "metadata": {},
   "outputs": [
    {
     "data": {
      "text/html": [
       "<div>\n",
       "<style scoped>\n",
       "    .dataframe tbody tr th:only-of-type {\n",
       "        vertical-align: middle;\n",
       "    }\n",
       "\n",
       "    .dataframe tbody tr th {\n",
       "        vertical-align: top;\n",
       "    }\n",
       "\n",
       "    .dataframe thead th {\n",
       "        text-align: right;\n",
       "    }\n",
       "</style>\n",
       "<table border=\"1\" class=\"dataframe\">\n",
       "  <thead>\n",
       "    <tr style=\"text-align: right;\">\n",
       "      <th></th>\n",
       "      <th>location</th>\n",
       "      <th>lat</th>\n",
       "      <th>long</th>\n",
       "      <th>alt</th>\n",
       "      <th>year</th>\n",
       "      <th>bloom_doy_lag1</th>\n",
       "      <th>bloom_doy_lag2</th>\n",
       "      <th>bloom_doy_lag3</th>\n",
       "    </tr>\n",
       "  </thead>\n",
       "  <tbody>\n",
       "    <tr>\n",
       "      <th>337</th>\n",
       "      <td>kyoto</td>\n",
       "      <td>-7.105427e-15</td>\n",
       "      <td>2.842171e-14</td>\n",
       "      <td>0.0</td>\n",
       "      <td>2025</td>\n",
       "      <td>95</td>\n",
       "      <td>95</td>\n",
       "      <td>95</td>\n",
       "    </tr>\n",
       "  </tbody>\n",
       "</table>\n",
       "</div>"
      ],
      "text/plain": [
       "    location           lat          long  alt  year  bloom_doy_lag1  \\\n",
       "337    kyoto -7.105427e-15  2.842171e-14  0.0  2025              95   \n",
       "\n",
       "     bloom_doy_lag2  bloom_doy_lag3  \n",
       "337              95              95  "
      ]
     },
     "execution_count": 109,
     "metadata": {},
     "output_type": "execute_result"
    }
   ],
   "source": [
    "# Extract latest available data (2024) for Kyoto\n",
    "latest_kyoto = combined_df[(combined_df['location'] == 'kyoto')].sort_values(by='year').iloc[-1:].copy()\n",
    "latest_kyoto['year'] = 2025  # Update year to 2025\n",
    "\n",
    "# Use previous bloom_doy as lag values\n",
    "latest_kyoto['bloom_doy_lag1'] = latest_kyoto['bloom_doy']\n",
    "latest_kyoto['bloom_doy_lag2'] = latest_kyoto['bloom_doy_lag1']\n",
    "latest_kyoto['bloom_doy_lag3'] = latest_kyoto['bloom_doy_lag2']\n",
    "\n",
    "# Keep only necessary columns\n",
    "latest_kyoto = latest_kyoto[['location', 'lat', 'long', 'alt', 'year', 'bloom_doy_lag1', 'bloom_doy_lag2', 'bloom_doy_lag3']]\n",
    "\n",
    "latest_kyoto"
   ]
  },
  {
   "cell_type": "code",
   "execution_count": 110,
   "metadata": {},
   "outputs": [
    {
     "data": {
      "text/html": [
       "<div>\n",
       "<style scoped>\n",
       "    .dataframe tbody tr th:only-of-type {\n",
       "        vertical-align: middle;\n",
       "    }\n",
       "\n",
       "    .dataframe tbody tr th {\n",
       "        vertical-align: top;\n",
       "    }\n",
       "\n",
       "    .dataframe thead th {\n",
       "        text-align: right;\n",
       "    }\n",
       "</style>\n",
       "<table border=\"1\" class=\"dataframe\">\n",
       "  <thead>\n",
       "    <tr style=\"text-align: right;\">\n",
       "      <th></th>\n",
       "      <th>location</th>\n",
       "      <th>lat</th>\n",
       "      <th>long</th>\n",
       "      <th>alt</th>\n",
       "      <th>year</th>\n",
       "      <th>bloom_doy_lag1</th>\n",
       "      <th>bloom_doy_lag2</th>\n",
       "      <th>bloom_doy_lag3</th>\n",
       "      <th>predicted_bloom_doy</th>\n",
       "      <th>predicted_bloom_date</th>\n",
       "    </tr>\n",
       "  </thead>\n",
       "  <tbody>\n",
       "    <tr>\n",
       "      <th>337</th>\n",
       "      <td>kyoto</td>\n",
       "      <td>-7.105427e-15</td>\n",
       "      <td>2.842171e-14</td>\n",
       "      <td>0.0</td>\n",
       "      <td>2025</td>\n",
       "      <td>95</td>\n",
       "      <td>95</td>\n",
       "      <td>95</td>\n",
       "      <td>89</td>\n",
       "      <td>2025-03-30</td>\n",
       "    </tr>\n",
       "  </tbody>\n",
       "</table>\n",
       "</div>"
      ],
      "text/plain": [
       "    location           lat          long  alt  year  bloom_doy_lag1  \\\n",
       "337    kyoto -7.105427e-15  2.842171e-14  0.0  2025              95   \n",
       "\n",
       "     bloom_doy_lag2  bloom_doy_lag3  predicted_bloom_doy predicted_bloom_date  \n",
       "337              95              95                   89           2025-03-30  "
      ]
     },
     "execution_count": 110,
     "metadata": {},
     "output_type": "execute_result"
    }
   ],
   "source": [
    "# Predict 2025 bloom DOY\n",
    "latest_kyoto['predicted_bloom_doy'] = int(model.predict(latest_kyoto[features]))\n",
    "\n",
    "# Convert DOY to actual date\n",
    "latest_kyoto['predicted_bloom_date'] = latest_kyoto['predicted_bloom_doy'].apply(\n",
    "    lambda doy: datetime(2025, 1, 1) + timedelta(days=int(doy) - 1)\n",
    ")\n",
    "latest_kyoto"
   ]
  },
  {
   "cell_type": "markdown",
   "metadata": {},
   "source": [
    "Using Gradient Boosting for Time Interval Prediction"
   ]
  },
  {
   "cell_type": "code",
   "execution_count": 92,
   "metadata": {},
   "outputs": [
    {
     "name": "stdout",
     "output_type": "stream",
     "text": [
      "85 96\n",
      "Predicted Cherry Bloom Interval for Kyoto in 2025: 2025-03-26 00:00:00 - 2025-04-06 00:00:00\n"
     ]
    }
   ],
   "source": [
    "from sklearn.ensemble import GradientBoostingRegressor\n",
    "import numpy as np\n",
    "\n",
    "# Define Gradient Boosting models for quantile regression\n",
    "gb_early = GradientBoostingRegressor(loss=\"quantile\", alpha=0.1, n_estimators=100, random_state=42)\n",
    "gb_late = GradientBoostingRegressor(loss=\"quantile\", alpha=0.9, n_estimators=100, random_state=42)\n",
    "\n",
    "# Train models using past bloom data\n",
    "gb_early.fit(X_train, y_train)\n",
    "gb_late.fit(X_train, y_train)\n",
    "\n",
    "# Predict early and late bloom DOY for 2025\n",
    "early_bloom_doy = gb_early.predict(latest_kyoto[features])\n",
    "late_bloom_doy = gb_late.predict(latest_kyoto[features])\n",
    "\n",
    "print(int(early_bloom_doy),int(late_bloom_doy))\n",
    "\n",
    "# Convert DOY to actual dates\n",
    "earliest_bloom_date = datetime(2025, 1, 1) + timedelta(days=int(early_bloom_doy[0]) - 1)\n",
    "latest_bloom_date = datetime(2025, 1, 1) + timedelta(days=int(late_bloom_doy[0]) - 1)\n",
    "\n",
    "print(f\"Predicted Cherry Bloom Interval for Kyoto in 2025: {earliest_bloom_date} - {latest_bloom_date}\")\n"
   ]
  }
 ],
 "metadata": {
  "kernelspec": {
   "display_name": "base",
   "language": "python",
   "name": "python3"
  },
  "language_info": {
   "codemirror_mode": {
    "name": "ipython",
    "version": 3
   },
   "file_extension": ".py",
   "mimetype": "text/x-python",
   "name": "python",
   "nbconvert_exporter": "python",
   "pygments_lexer": "ipython3",
   "version": "3.9.13"
  }
 },
 "nbformat": 4,
 "nbformat_minor": 2
}
